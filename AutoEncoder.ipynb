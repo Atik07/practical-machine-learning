{
  "nbformat": 4,
  "nbformat_minor": 0,
  "metadata": {
    "colab": {
      "name": "AutoEncoder.ipynb",
      "provenance": [],
      "collapsed_sections": [],
      "include_colab_link": true
    },
    "kernelspec": {
      "name": "python3",
      "display_name": "Python 3"
    },
    "language_info": {
      "name": "python"
    }
  },
  "cells": [
    {
      "cell_type": "markdown",
      "metadata": {
        "id": "view-in-github",
        "colab_type": "text"
      },
      "source": [
        "<a href=\"https://colab.research.google.com/github/Atik07/practical-machine-learning/blob/main/AutoEncoder.ipynb\" target=\"_parent\"><img src=\"https://colab.research.google.com/assets/colab-badge.svg\" alt=\"Open In Colab\"/></a>"
      ]
    },
    {
      "cell_type": "code",
      "metadata": {
        "id": "8yNLqjcTlj9O"
      },
      "source": [
        "import tensorflow as tf\n",
        "from tensorflow import keras\n",
        "import matplotlib.pyplot as plt\n",
        "import cv2\n",
        "import numpy as np\n",
        "import math\n",
        " \n",
        "%matplotlib inline"
      ],
      "execution_count": null,
      "outputs": []
    },
    {
      "cell_type": "code",
      "metadata": {
        "id": "EL97j-ATqXjp",
        "colab": {
          "base_uri": "https://localhost:8080/"
        },
        "outputId": "0aaac57b-5ca0-4977-afa3-111212d235f5"
      },
      "source": [
        "(x_train, y_train), (x_test, y_test) = tf.keras.datasets.mnist.load_data()"
      ],
      "execution_count": null,
      "outputs": [
        {
          "output_type": "stream",
          "text": [
            "Downloading data from https://storage.googleapis.com/tensorflow/tf-keras-datasets/mnist.npz\n",
            "11493376/11490434 [==============================] - 0s 0us/step\n"
          ],
          "name": "stdout"
        }
      ]
    },
    {
      "cell_type": "code",
      "metadata": {
        "colab": {
          "base_uri": "https://localhost:8080/",
          "height": 283
        },
        "id": "onddGIgeqZq8",
        "outputId": "379a9509-3379-4ccc-c645-17dda7008bfc"
      },
      "source": [
        "plt.imshow(x_train[0])\n",
        "print('shape',x_train[0].shape)\n",
        "# print(x_train[0])"
      ],
      "execution_count": null,
      "outputs": [
        {
          "output_type": "stream",
          "text": [
            "shape (28, 28)\n"
          ],
          "name": "stdout"
        },
        {
          "output_type": "display_data",
          "data": {
            "image/png": "[encoded data removed]",
            "text/plain": [
              "<Figure size 432x288 with 1 Axes>"
            ]
          },
          "metadata": {
            "tags": [],
            "needs_background": "light"
          }
        }
      ]
    },
    {
      "cell_type": "code",
      "metadata": {
        "id": "vvrnstY1qoqq"
      },
      "source": [
        " max= 255.0\n",
        " min= 0.0\n",
        " \n",
        " delta = max-min\n",
        "\n",
        " x_train = x_train/delta\n",
        " x_test = x_test/delta"
      ],
      "execution_count": null,
      "outputs": []
    },
    {
      "cell_type": "code",
      "metadata": {
        "id": "3GfssWNCPPeL"
      },
      "source": [
        "reduced_size = 64"
      ],
      "execution_count": null,
      "outputs": []
    },
    {
      "cell_type": "code",
      "metadata": {
        "colab": {
          "base_uri": "https://localhost:8080/"
        },
        "id": "i25t6OaEuHdI",
        "outputId": "fe9a597e-814d-4174-f204-769b5139d753"
      },
      "source": [
        "encoder_input = keras.Input(shape=(28,28,1), name=\"img\")\n",
        "#(28, 28, 1 ) = (height , width, color_channels)\n",
        "x= keras.layers.Flatten()(encoder_input) #to flatten al input to 784 pixels with 1 channel\n",
        "encoder_output = keras.layers.Dense(reduced_size, activation=\"relu\")(x) # dense layer\n",
        "\n",
        "encoder = keras.Model(encoder_input, encoder_output, name=\"encoder\")\n",
        "\n",
        "decoder_input = keras.layers.Dense(784, activation=\"relu\")(encoder_output)\n",
        "# x = keras.layers.Dense(784, activation=\"relu\")(decoder_input)\n",
        "decoder_output = keras.layers.Reshape((28,28,1))(decoder_input)\n",
        "\n",
        "opt = keras.optimizers.Adam(learning_rate=0.001, decay=1e-6)\n",
        "\n",
        "autoencoder = keras.Model(encoder_input, decoder_output, name=\"autoencoder\")\n",
        "autoencoder.summary()\n",
        "\n",
        "autoencoder.compile(opt, loss=\"mse\")\n",
        "\n",
        "autoencoder.fit(x_train, x_train, epochs=10, batch_size=32, validation_split=0.1)"
      ],
      "execution_count": null,
      "outputs": [
        {
          "output_type": "stream",
          "text": [
            "Model: \"autoencoder\"\n",
            "_________________________________________________________________\n",
            "Layer (type)                 Output Shape              Param #   \n",
            "=================================================================\n",
            "img (InputLayer)             [(None, 28, 28, 1)]       0         \n",
            "_________________________________________________________________\n",
            "flatten (Flatten)            (None, 784)               0         \n",
            "_________________________________________________________________\n",
            "dense (Dense)                (None, 64)                50240     \n",
            "_________________________________________________________________\n",
            "dense_1 (Dense)              (None, 784)               50960     \n",
            "_________________________________________________________________\n",
            "reshape (Reshape)            (None, 28, 28, 1)         0         \n",
            "=================================================================\n",
            "Total params: 101,200\n",
            "Trainable params: 101,200\n",
            "Non-trainable params: 0\n",
            "_________________________________________________________________\n",
            "Epoch 1/10\n",
            "1688/1688 [==============================] - 4s 2ms/step - loss: 0.0173 - val_loss: 0.0117\n",
            "Epoch 2/10\n",
            "1688/1688 [==============================] - 3s 2ms/step - loss: 0.0112 - val_loss: 0.0110\n",
            "Epoch 3/10\n",
            "1688/1688 [==============================] - 3s 2ms/step - loss: 0.0108 - val_loss: 0.0108\n",
            "Epoch 4/10\n",
            "1688/1688 [==============================] - 3s 2ms/step - loss: 0.0107 - val_loss: 0.0107\n",
            "Epoch 5/10\n",
            "1688/1688 [==============================] - 3s 2ms/step - loss: 0.0106 - val_loss: 0.0107\n",
            "Epoch 6/10\n",
            "1688/1688 [==============================] - 3s 2ms/step - loss: 0.0106 - val_loss: 0.0106\n",
            "Epoch 7/10\n",
            "1688/1688 [==============================] - 3s 2ms/step - loss: 0.0106 - val_loss: 0.0106\n",
            "Epoch 8/10\n",
            "1688/1688 [==============================] - 3s 2ms/step - loss: 0.0106 - val_loss: 0.0106\n",
            "Epoch 9/10\n",
            "1688/1688 [==============================] - 3s 2ms/step - loss: 0.0105 - val_loss: 0.0105\n",
            "Epoch 10/10\n",
            "1688/1688 [==============================] - 3s 2ms/step - loss: 0.0105 - val_loss: 0.0106\n"
          ],
          "name": "stdout"
        },
        {
          "output_type": "execute_result",
          "data": {
            "text/plain": [
              "<tensorflow.python.keras.callbacks.History at 0x7f7d643b8ed0>"
            ]
          },
          "metadata": {
            "tags": []
          },
          "execution_count": 6
        }
      ]
    },
    {
      "cell_type": "code",
      "metadata": {
        "colab": {
          "base_uri": "https://localhost:8080/",
          "height": 508
        },
        "id": "5LtKrxo06icS",
        "outputId": "842c5ded-045f-460d-e9a7-fcb00e2605ec"
      },
      "source": [
        "example = encoder.predict([x_test[0].reshape(-1, 28, 28, 1)])[0]\n",
        "print(example)\n",
        "print(example.shape)\n",
        "print(reduced_size/784)\n",
        "plt.imshow(example.reshape((8,8)))"
      ],
      "execution_count": null,
      "outputs": [
        {
          "output_type": "stream",
          "text": [
            "[2.8060665  0.8461296  0.82500094 0.9340441  1.1753769  0.8088865\n",
            " 1.0410578  1.2260809  1.5866352  0.5152567  0.78851414 1.1896296\n",
            " 0.14631967 1.7424362  0.66152966 0.31083065 1.5535232  1.1963961\n",
            " 0.4119217  0.         0.04989617 0.6128049  0.14282481 1.3732278\n",
            " 0.9172584  0.52566993 0.8086829  0.         1.6493261  1.2211612\n",
            " 0.18609723 0.05086936 0.467984   1.0933042  1.2988392  1.5147666\n",
            " 0.4839167  0.72760797 0.51312435 0.41698247 1.0840784  1.0320065\n",
            " 1.3402508  0.8688595  1.1491066  1.8129992  0.93411475 0.26479948\n",
            " 0.70352685 0.556308   1.0751426  0.         0.7973404  1.4295869\n",
            " 0.3543289  1.1784868  0.60304034 0.23786634 1.1305515  1.3505851\n",
            " 0.07988013 2.4944377  1.0856909  0.26761714]\n",
            "(64,)\n",
            "0.08163265306122448\n"
          ],
          "name": "stdout"
        },
        {
          "output_type": "execute_result",
          "data": {
            "text/plain": [
              "<matplotlib.image.AxesImage at 0x7f7d63b1a690>"
            ]
          },
          "metadata": {
            "tags": []
          },
          "execution_count": 7
        },
        {
          "output_type": "display_data",
          "data": {
            "image/png": "[encoded data removed]",
            "text/plain": [
              "<Figure size 432x288 with 1 Axes>"
            ]
          },
          "metadata": {
            "tags": [],
            "needs_background": "light"
          }
        }
      ]
    },
    {
      "cell_type": "code",
      "metadata": {
        "id": "rbpHrH2QPkxE"
      },
      "source": [
        "test_image = x_test[1]"
      ],
      "execution_count": null,
      "outputs": []
    },
    {
      "cell_type": "code",
      "metadata": {
        "colab": {
          "base_uri": "https://localhost:8080/",
          "height": 317
        },
        "id": "Ple_JtolJtB_",
        "outputId": "096575d9-0656-4152-dcde-038ddecbb2fe"
      },
      "source": [
        "print(test_image.shape)\n",
        "print(type(test_image))\n",
        "plt.imshow(test_image)"
      ],
      "execution_count": null,
      "outputs": [
        {
          "output_type": "stream",
          "text": [
            "(28, 28)\n",
            "<class 'numpy.ndarray'>\n"
          ],
          "name": "stdout"
        },
        {
          "output_type": "execute_result",
          "data": {
            "text/plain": [
              "<matplotlib.image.AxesImage at 0x7f7d61c883d0>"
            ]
          },
          "metadata": {
            "tags": []
          },
          "execution_count": 9
        },
        {
          "output_type": "display_data",
          "data": {
            "image/png": "[encoded data removed]",
            "text/plain": [
              "<Figure size 432x288 with 1 Axes>"
            ]
          },
          "metadata": {
            "tags": [],
            "needs_background": "light"
          }
        }
      ]
    },
    {
      "cell_type": "code",
      "metadata": {
        "colab": {
          "base_uri": "https://localhost:8080/",
          "height": 317
        },
        "id": "b4os7frQ8ZBU",
        "outputId": "2ce84264-cfd2-4449-d866-76ceef5eab55"
      },
      "source": [
        "ae_out = autoencoder.predict([test_image.reshape(-1, 28, 28, 1)])[0]\n",
        "print(type(ae_out))\n",
        "print(ae_out.shape)\n",
        "plt.imshow(ae_out.reshape([28, 28]))"
      ],
      "execution_count": null,
      "outputs": [
        {
          "output_type": "stream",
          "text": [
            "<class 'numpy.ndarray'>\n",
            "(28, 28, 1)\n"
          ],
          "name": "stdout"
        },
        {
          "output_type": "execute_result",
          "data": {
            "text/plain": [
              "<matplotlib.image.AxesImage at 0x7f7d603354d0>"
            ]
          },
          "metadata": {
            "tags": []
          },
          "execution_count": 10
        },
        {
          "output_type": "display_data",
          "data": {
            "image/png": "[encoded data removed]",
            "text/plain": [
              "<Figure size 432x288 with 1 Axes>"
            ]
          },
          "metadata": {
            "tags": [],
            "needs_background": "light"
          }
        }
      ]
    },
    {
      "cell_type": "code",
      "metadata": {
        "id": "BX2Z2JqzRbhL"
      },
      "source": [
        "import random\n",
        "\n",
        "def add_noise(img, random_chance=5):\n",
        "  noisy = []\n",
        "  for row in img:\n",
        "    new_row = []\n",
        "    for pix in row:\n",
        "      if random.choice(range(100)) <= random_chance:\n",
        "        new_val = random.uniform(0, 1)\n",
        "        new_row.append(new_val)\n",
        "      else:\n",
        "        new_row.append(pix)\n",
        "    noisy.append(new_row)\n",
        "  return np.array(noisy)"
      ],
      "execution_count": null,
      "outputs": []
    },
    {
      "cell_type": "code",
      "metadata": {
        "colab": {
          "base_uri": "https://localhost:8080/",
          "height": 283
        },
        "id": "zSmgEn8iSujM",
        "outputId": "cf3cdbe0-fac3-43de-b26d-23183712d746"
      },
      "source": [
        "test_image = add_noise(test_image)\n",
        "plt.imshow(test_image)"
      ],
      "execution_count": null,
      "outputs": [
        {
          "output_type": "execute_result",
          "data": {
            "text/plain": [
              "<matplotlib.image.AxesImage at 0x7f7d60321910>"
            ]
          },
          "metadata": {
            "tags": []
          },
          "execution_count": 12
        },
        {
          "output_type": "display_data",
          "data": {
            "image/png": "[encoded data removed]",
            "text/plain": [
              "<Figure size 432x288 with 1 Axes>"
            ]
          },
          "metadata": {
            "tags": [],
            "needs_background": "light"
          }
        }
      ]
    },
    {
      "cell_type": "code",
      "metadata": {
        "colab": {
          "base_uri": "https://localhost:8080/",
          "height": 317
        },
        "id": "c5xLqu_iS-sg",
        "outputId": "d636108e-2689-422c-89a1-4f77e4e4a09f"
      },
      "source": [
        "ae_out = autoencoder.predict([test_image.reshape(-1, 28, 28, 1)])[0]\n",
        "print(type(ae_out))\n",
        "print(ae_out.shape)\n",
        "plt.imshow(ae_out.reshape([28, 28]))"
      ],
      "execution_count": null,
      "outputs": [
        {
          "output_type": "stream",
          "text": [
            "<class 'numpy.ndarray'>\n",
            "(28, 28, 1)\n"
          ],
          "name": "stdout"
        },
        {
          "output_type": "execute_result",
          "data": {
            "text/plain": [
              "<matplotlib.image.AxesImage at 0x7f7d60212510>"
            ]
          },
          "metadata": {
            "tags": []
          },
          "execution_count": 13
        },
        {
          "output_type": "display_data",
          "data": {
            "image/png": "[encoded data removed]",
            "text/plain": [
              "<Figure size 432x288 with 1 Axes>"
            ]
          },
          "metadata": {
            "tags": [],
            "needs_background": "light"
          }
        }
      ]
    }
  ]
}