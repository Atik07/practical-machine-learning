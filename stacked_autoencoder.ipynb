{
  "nbformat": 4,
  "nbformat_minor": 0,
  "metadata": {
    "colab": {
      "name": "stacked-autoencoder.ipynb",
      "provenance": [],
      "collapsed_sections": [],
      "authorship_tag": "ABX9TyPCPPVV+W2SePc+nn8BphHj",
      "include_colab_link": true
    },
    "kernelspec": {
      "name": "python3",
      "display_name": "Python 3"
    },
    "language_info": {
      "name": "python"
    },
    "accelerator": "GPU"
  },
  "cells": [
    {
      "cell_type": "markdown",
      "metadata": {
        "id": "view-in-github",
        "colab_type": "text"
      },
      "source": [
        "<a href=\"https://colab.research.google.com/github/Atik07/practical-machine-learning/blob/main/stacked_autoencoder.ipynb\" target=\"_parent\"><img src=\"https://colab.research.google.com/assets/colab-badge.svg\" alt=\"Open In Colab\"/></a>"
      ]
    },
    {
      "cell_type": "code",
      "metadata": {
        "id": "YIXZ6TM57-gM"
      },
      "source": [
        "import numpy as np\n",
        "import pandas as pd\n",
        "\n",
        "import matplotlib.pyplot as plt\n",
        "\n",
        "import tensorflow as tf\n",
        "from tensorflow import keras\n",
        "from tensorflow.keras.models import Model\n",
        "from tensorflow.keras import layers, losses\n",
        "\n",
        "import sklearn\n",
        "from sklearn import metrics\n",
        "\n",
        "%matplotlib inline"
      ],
      "execution_count": null,
      "outputs": []
    },
    {
      "cell_type": "code",
      "metadata": {
        "id": "cuNGoig9PeU1"
      },
      "source": [
        "#importing mnist\n",
        "(x_train, y_train), (x_test, y_test) = tf.keras.datasets.mnist.load_data()"
      ],
      "execution_count": null,
      "outputs": []
    },
    {
      "cell_type": "code",
      "metadata": {
        "id": "qIklvLO0S6Mv"
      },
      "source": [
        "x_train = x_train/255.0\n",
        "x_test = x_test/255.0"
      ],
      "execution_count": null,
      "outputs": []
    },
    {
      "cell_type": "markdown",
      "metadata": {
        "id": "YYepwKouPmxa"
      },
      "source": [
        "###Stacked-autoencoder Network"
      ]
    },
    {
      "cell_type": "code",
      "metadata": {
        "id": "kLaUT1xGYL-j"
      },
      "source": [
        "class Autoencoder(Model):\n",
        "  def __init__(self, dimensions:tuple):\n",
        "    super(Autoencoder, self).__init__()\n",
        "    self.latent_dim = dimensions[0]*dimensions[1]\n",
        "    self.encoder = tf.keras.Sequential([\n",
        "      layers.Flatten(),\n",
        "      layers.Dense(self.latent_dim/2 , activation='sigmoid'),\n",
        "      layers.Dense(self.latent_dim/4 , activation='sigmoid'),\n",
        "      layers.Dense(self.latent_dim/8 , activation='sigmoid'),\n",
        "      layers.Dense(self.latent_dim/16, activation='sigmoid'),\n",
        "    ])\n",
        "    self.decoder = tf.keras.Sequential([\n",
        "      layers.Dense(self.latent_dim/16, activation='sigmoid'),\n",
        "      layers.Dense(self.latent_dim/8 , activation='sigmoid'),\n",
        "      layers.Dense(self.latent_dim/4 , activation='sigmoid'),\n",
        "      layers.Dense(self.latent_dim/2, activation='sigmoid'),\n",
        "      layers.Dense(self.latent_dim, activation='sigmoid'),\n",
        "      layers.Reshape((28, 28))\n",
        "    ])\n",
        "\n",
        "  def call(self, x):\n",
        "    encoded = self.encoder(x)\n",
        "    decoded = self.decoder(encoded)\n",
        "    return decoded\n",
        "  \n",
        "  def call_encoder(self, x):\n",
        "    return self.encoder(x)\n",
        "\n",
        "  def call_decoder(self, encoded):\n",
        "    return self.decoder(encoded)"
      ],
      "execution_count": null,
      "outputs": []
    },
    {
      "cell_type": "code",
      "metadata": {
        "colab": {
          "base_uri": "https://localhost:8080/"
        },
        "id": "v_fL2iCxYfEo",
        "outputId": "2d052ba9-c838-4bfa-9215-6329a1227d7a"
      },
      "source": [
        "autoencoder = Autoencoder(dimensions=(x_train.shape[1],x_train.shape[2]))\n",
        "\n",
        "autoencoder.compile(optimizer='adam', loss=\"mse\")\n",
        "\n",
        "autoencoder.fit(x_train, x_train, epochs=40, validation_split=0.1)"
      ],
      "execution_count": null,
      "outputs": [
        {
          "output_type": "stream",
          "text": [
            "Epoch 1/40\n",
            "1688/1688 [==============================] - 6s 3ms/step - loss: 0.0682 - val_loss: 0.0672\n",
            "Epoch 2/40\n",
            "1688/1688 [==============================] - 5s 3ms/step - loss: 0.0610 - val_loss: 0.0544\n",
            "Epoch 3/40\n",
            "1688/1688 [==============================] - 5s 3ms/step - loss: 0.0530 - val_loss: 0.0500\n",
            "Epoch 4/40\n",
            "1688/1688 [==============================] - 5s 3ms/step - loss: 0.0498 - val_loss: 0.0483\n",
            "Epoch 5/40\n",
            "1688/1688 [==============================] - 5s 3ms/step - loss: 0.0486 - val_loss: 0.0482\n",
            "Epoch 6/40\n",
            "1688/1688 [==============================] - 5s 3ms/step - loss: 0.0478 - val_loss: 0.0475\n",
            "Epoch 7/40\n",
            "1688/1688 [==============================] - 5s 3ms/step - loss: 0.0472 - val_loss: 0.0462\n",
            "Epoch 8/40\n",
            "1688/1688 [==============================] - 5s 3ms/step - loss: 0.0464 - val_loss: 0.0451\n",
            "Epoch 9/40\n",
            "1688/1688 [==============================] - 5s 3ms/step - loss: 0.0461 - val_loss: 0.0451\n",
            "Epoch 10/40\n",
            "1688/1688 [==============================] - 5s 3ms/step - loss: 0.0455 - val_loss: 0.0450\n",
            "Epoch 11/40\n",
            "1688/1688 [==============================] - 5s 3ms/step - loss: 0.0453 - val_loss: 0.0442\n",
            "Epoch 12/40\n",
            "1688/1688 [==============================] - 5s 3ms/step - loss: 0.0449 - val_loss: 0.0443\n",
            "Epoch 13/40\n",
            "1688/1688 [==============================] - 5s 3ms/step - loss: 0.0446 - val_loss: 0.0438\n",
            "Epoch 14/40\n",
            "1688/1688 [==============================] - 5s 3ms/step - loss: 0.0450 - val_loss: 0.0462\n",
            "Epoch 15/40\n",
            "1688/1688 [==============================] - 5s 3ms/step - loss: 0.0458 - val_loss: 0.0474\n",
            "Epoch 16/40\n",
            "1688/1688 [==============================] - 5s 3ms/step - loss: 0.0483 - val_loss: 0.0461\n",
            "Epoch 17/40\n",
            "1688/1688 [==============================] - 5s 3ms/step - loss: 0.0467 - val_loss: 0.0464\n",
            "Epoch 18/40\n",
            "1688/1688 [==============================] - 5s 3ms/step - loss: 0.0455 - val_loss: 0.0437\n",
            "Epoch 19/40\n",
            "1688/1688 [==============================] - 5s 3ms/step - loss: 0.0450 - val_loss: 0.0438\n",
            "Epoch 20/40\n",
            "1688/1688 [==============================] - 5s 3ms/step - loss: 0.0439 - val_loss: 0.0429\n",
            "Epoch 21/40\n",
            "1688/1688 [==============================] - 5s 3ms/step - loss: 0.0434 - val_loss: 0.0425\n",
            "Epoch 22/40\n",
            "1688/1688 [==============================] - 5s 3ms/step - loss: 0.0429 - val_loss: 0.0418\n",
            "Epoch 23/40\n",
            "1688/1688 [==============================] - 5s 3ms/step - loss: 0.0425 - val_loss: 0.0415\n",
            "Epoch 24/40\n",
            "1688/1688 [==============================] - 5s 3ms/step - loss: 0.0422 - val_loss: 0.0409\n",
            "Epoch 25/40\n",
            "1688/1688 [==============================] - 5s 3ms/step - loss: 0.0415 - val_loss: 0.0406\n",
            "Epoch 26/40\n",
            "1688/1688 [==============================] - 5s 3ms/step - loss: 0.0414 - val_loss: 0.0398\n",
            "Epoch 27/40\n",
            "1688/1688 [==============================] - 5s 3ms/step - loss: 0.0402 - val_loss: 0.0386\n",
            "Epoch 28/40\n",
            "1688/1688 [==============================] - 5s 3ms/step - loss: 0.0392 - val_loss: 0.0384\n",
            "Epoch 29/40\n",
            "1688/1688 [==============================] - 5s 3ms/step - loss: 0.0391 - val_loss: 0.0383\n",
            "Epoch 30/40\n",
            "1688/1688 [==============================] - 5s 3ms/step - loss: 0.0384 - val_loss: 0.0371\n",
            "Epoch 31/40\n",
            "1688/1688 [==============================] - 5s 3ms/step - loss: 0.0378 - val_loss: 0.0370\n",
            "Epoch 32/40\n",
            "1688/1688 [==============================] - 5s 3ms/step - loss: 0.0374 - val_loss: 0.0368\n",
            "Epoch 33/40\n",
            "1688/1688 [==============================] - 5s 3ms/step - loss: 0.0372 - val_loss: 0.0369\n",
            "Epoch 34/40\n",
            "1688/1688 [==============================] - 5s 3ms/step - loss: 0.0369 - val_loss: 0.0361\n",
            "Epoch 35/40\n",
            "1688/1688 [==============================] - 5s 3ms/step - loss: 0.0364 - val_loss: 0.0357\n",
            "Epoch 36/40\n",
            "1688/1688 [==============================] - 5s 3ms/step - loss: 0.0363 - val_loss: 0.0356\n",
            "Epoch 37/40\n",
            "1688/1688 [==============================] - 5s 3ms/step - loss: 0.0360 - val_loss: 0.0353\n",
            "Epoch 38/40\n",
            "1688/1688 [==============================] - 5s 3ms/step - loss: 0.0358 - val_loss: 0.0351\n",
            "Epoch 39/40\n",
            "1688/1688 [==============================] - 5s 3ms/step - loss: 0.0359 - val_loss: 0.0351\n",
            "Epoch 40/40\n",
            "1688/1688 [==============================] - 5s 3ms/step - loss: 0.0353 - val_loss: 0.0346\n"
          ],
          "name": "stdout"
        },
        {
          "output_type": "execute_result",
          "data": {
            "text/plain": [
              "<tensorflow.python.keras.callbacks.History at 0x7fc5a0138190>"
            ]
          },
          "metadata": {
            "tags": []
          },
          "execution_count": 5
        }
      ]
    },
    {
      "cell_type": "code",
      "metadata": {
        "colab": {
          "base_uri": "https://localhost:8080/"
        },
        "id": "b0Nbxm9mBdYH",
        "outputId": "ff59efe9-7f83-4e44-f640-cc24bbf7b028"
      },
      "source": [
        "autoencoder.summary()"
      ],
      "execution_count": null,
      "outputs": [
        {
          "output_type": "stream",
          "text": [
            "Model: \"autoencoder\"\n",
            "_________________________________________________________________\n",
            "Layer (type)                 Output Shape              Param #   \n",
            "=================================================================\n",
            "sequential (Sequential)      (None, 49)                408905    \n",
            "_________________________________________________________________\n",
            "sequential_1 (Sequential)    (None, 28, 28)            412090    \n",
            "=================================================================\n",
            "Total params: 820,995\n",
            "Trainable params: 820,995\n",
            "Non-trainable params: 0\n",
            "_________________________________________________________________\n"
          ],
          "name": "stdout"
        }
      ]
    },
    {
      "cell_type": "code",
      "metadata": {
        "colab": {
          "base_uri": "https://localhost:8080/"
        },
        "id": "dRkbhCvn-p7m",
        "outputId": "d7f9393e-6d3b-46ca-98b6-ad63aea49db0"
      },
      "source": [
        "autoencoder.encoder.summary()"
      ],
      "execution_count": null,
      "outputs": [
        {
          "output_type": "stream",
          "text": [
            "Model: \"sequential\"\n",
            "_________________________________________________________________\n",
            "Layer (type)                 Output Shape              Param #   \n",
            "=================================================================\n",
            "flatten (Flatten)            (None, 784)               0         \n",
            "_________________________________________________________________\n",
            "dense (Dense)                (None, 392)               307720    \n",
            "_________________________________________________________________\n",
            "dense_1 (Dense)              (None, 196)               77028     \n",
            "_________________________________________________________________\n",
            "dense_2 (Dense)              (None, 98)                19306     \n",
            "_________________________________________________________________\n",
            "dense_3 (Dense)              (None, 49)                4851      \n",
            "=================================================================\n",
            "Total params: 408,905\n",
            "Trainable params: 408,905\n",
            "Non-trainable params: 0\n",
            "_________________________________________________________________\n"
          ],
          "name": "stdout"
        }
      ]
    },
    {
      "cell_type": "code",
      "metadata": {
        "colab": {
          "base_uri": "https://localhost:8080/"
        },
        "id": "PfgFvN6UBgsH",
        "outputId": "d02dda86-d81c-4096-d552-e5410c6e56d2"
      },
      "source": [
        "autoencoder.decoder.summary()"
      ],
      "execution_count": null,
      "outputs": [
        {
          "output_type": "stream",
          "text": [
            "Model: \"sequential_1\"\n",
            "_________________________________________________________________\n",
            "Layer (type)                 Output Shape              Param #   \n",
            "=================================================================\n",
            "dense_4 (Dense)              (None, 49)                2450      \n",
            "_________________________________________________________________\n",
            "dense_5 (Dense)              (None, 98)                4900      \n",
            "_________________________________________________________________\n",
            "dense_6 (Dense)              (None, 196)               19404     \n",
            "_________________________________________________________________\n",
            "dense_7 (Dense)              (None, 392)               77224     \n",
            "_________________________________________________________________\n",
            "dense_8 (Dense)              (None, 784)               308112    \n",
            "_________________________________________________________________\n",
            "reshape (Reshape)            (None, 28, 28)            0         \n",
            "=================================================================\n",
            "Total params: 412,090\n",
            "Trainable params: 412,090\n",
            "Non-trainable params: 0\n",
            "_________________________________________________________________\n"
          ],
          "name": "stdout"
        }
      ]
    },
    {
      "cell_type": "markdown",
      "metadata": {
        "id": "ALFW0OEODGyl"
      },
      "source": [
        "###Evaluating"
      ]
    },
    {
      "cell_type": "code",
      "metadata": {
        "colab": {
          "base_uri": "https://localhost:8080/"
        },
        "id": "wqDXWS836UuC",
        "outputId": "2656f8da-0b86-4c6b-be7f-53a7c9b8a26f"
      },
      "source": [
        "# encoder output\n",
        "example = autoencoder.call_encoder(x_test)\n",
        "print(example.shape)\n",
        "print(example[0])\n",
        "plt.imshow(tf.reshape(example[0], [7,7]))"
      ],
      "execution_count": null,
      "outputs": [
        {
          "output_type": "stream",
          "text": [
            "(10000, 49)\n",
            "tf.Tensor(\n",
            "[4.1083392e-02 6.2909693e-04 4.7502926e-01 2.2770232e-01 8.5152102e-01\n",
            " 6.1944091e-01 4.9832300e-03 9.3385940e-03 2.8212980e-04 5.3263947e-02\n",
            " 9.6199918e-01 4.7979087e-02 8.2297169e-02 6.5786429e-05 9.0253852e-06\n",
            " 5.9231561e-01 4.2280540e-04 3.9836150e-03 4.4566233e-04 2.4752913e-04\n",
            " 3.5844952e-02 1.8143480e-03 1.5581712e-05 2.4377008e-03 5.1140165e-01\n",
            " 9.9962640e-01 9.9159765e-01 1.6886544e-01 4.9630919e-01 6.8617439e-01\n",
            " 8.0606871e-05 9.7153187e-03 2.1125035e-01 2.4905626e-04 1.4375959e-03\n",
            " 9.7363776e-01 7.0836177e-05 9.3016392e-01 4.6959797e-01 9.9205506e-01\n",
            " 6.0779403e-04 8.8260495e-05 1.5026969e-01 6.5251566e-02 9.6896285e-01\n",
            " 3.2452773e-04 7.6115294e-03 9.9111009e-01 6.3048747e-06], shape=(49,), dtype=float32)\n"
          ],
          "name": "stdout"
        },
        {
          "output_type": "execute_result",
          "data": {
            "text/plain": [
              "<matplotlib.image.AxesImage at 0x7fc55376ef50>"
            ]
          },
          "metadata": {
            "tags": []
          },
          "execution_count": 9
        },
        {
          "output_type": "display_data",
          "data": {
            "image/png": "[encoded data removed]",
            "text/plain": [
              "<Figure size 432x288 with 1 Axes>"
            ]
          },
          "metadata": {
            "tags": [],
            "needs_background": "light"
          }
        }
      ]
    },
    {
      "cell_type": "code",
      "metadata": {
        "colab": {
          "base_uri": "https://localhost:8080/"
        },
        "id": "U6RyTPKTB_1R",
        "outputId": "f051ae29-89c7-4324-a17b-c87a28522e3e"
      },
      "source": [
        "plt.imshow(x_test[0])"
      ],
      "execution_count": null,
      "outputs": [
        {
          "output_type": "execute_result",
          "data": {
            "text/plain": [
              "<matplotlib.image.AxesImage at 0x7fc55212ebd0>"
            ]
          },
          "metadata": {
            "tags": []
          },
          "execution_count": 10
        },
        {
          "output_type": "display_data",
          "data": {
            "image/png": "[encoded data removed]",
            "text/plain": [
              "<Figure size 432x288 with 1 Axes>"
            ]
          },
          "metadata": {
            "tags": [],
            "needs_background": "light"
          }
        }
      ]
    },
    {
      "cell_type": "code",
      "metadata": {
        "colab": {
          "base_uri": "https://localhost:8080/",
          "height": 71
        },
        "id": "5f_Cx3P97dVy",
        "outputId": "0e417ca4-6a93-4f1c-e5d4-78a05f2b41f4"
      },
      "source": [
        "# autoencoder output\n",
        "example = autoencoder.call(x_test)\n",
        "plt.imshow(tf.reshape(example[0], [28,28]))"
      ],
      "execution_count": null,
      "outputs": [
        {
          "output_type": "execute_result",
          "data": {
            "text/plain": [
              "<matplotlib.image.AxesImage at 0x7fc5520af4d0>"
            ]
          },
          "metadata": {
            "tags": []
          },
          "execution_count": 11
        },
        {
          "output_type": "display_data",
          "data": {
            "image/png": "[encoded data removed]",
            "text/plain": [
              "<Figure size 432x288 with 1 Axes>"
            ]
          },
          "metadata": {
            "tags": [],
            "needs_background": "light"
          }
        }
      ]
    }
  ]
}