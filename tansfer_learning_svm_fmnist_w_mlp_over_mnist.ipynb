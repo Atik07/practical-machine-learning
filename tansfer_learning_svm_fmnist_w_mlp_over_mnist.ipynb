{
  "nbformat": 4,
  "nbformat_minor": 0,
  "metadata": {
    "colab": {
      "name": "tansfer-learning : svm-fmnist-w/mlp_over_mnist.ipynb",
      "provenance": [],
      "collapsed_sections": [],
      "authorship_tag": "ABX9TyNb3K/2T8sHvMqUc1B5Thy7",
      "include_colab_link": true
    },
    "kernelspec": {
      "name": "python3",
      "display_name": "Python 3"
    },
    "language_info": {
      "name": "python"
    },
    "accelerator": "GPU"
  },
  "cells": [
    {
      "cell_type": "markdown",
      "metadata": {
        "id": "view-in-github",
        "colab_type": "text"
      },
      "source": [
        "<a href=\"https://colab.research.google.com/github/Atik07/practical-machine-learning/blob/main/tansfer_learning_svm_fmnist_w_mlp_over_mnist.ipynb\" target=\"_parent\"><img src=\"https://colab.research.google.com/assets/colab-badge.svg\" alt=\"Open In Colab\"/></a>"
      ]
    },
    {
      "cell_type": "code",
      "metadata": {
        "id": "fNDNQRhl8YjH"
      },
      "source": [
        "import numpy as np\n",
        "import pandas as pd\n",
        "\n",
        "import matplotlib.pyplot as plt\n",
        "\n",
        "import tensorflow as tf\n",
        "from tensorflow import keras\n",
        "\n",
        "import sklearn\n",
        "from sklearn import svm #SVM\n",
        "from sklearn import metrics\n",
        "\n",
        "%matplotlib inline"
      ],
      "execution_count": null,
      "outputs": []
    },
    {
      "cell_type": "code",
      "metadata": {
        "id": "4vRsZJeu9uO9"
      },
      "source": [
        "#importing mnist\n",
        "(mnist_x_train, mnist_y_train), (mnist_x_test, mnist_y_test) = tf.keras.datasets.mnist.load_data()"
      ],
      "execution_count": null,
      "outputs": []
    },
    {
      "cell_type": "code",
      "metadata": {
        "id": "6_b9RGUq96R8"
      },
      "source": [
        "#importing fashion-mnist\n",
        "(fmnist_x_train, fmnist_y_train), (fmnist_x_test, fmnist_y_test) = tf.keras.datasets.fashion_mnist.load_data()"
      ],
      "execution_count": null,
      "outputs": []
    },
    {
      "cell_type": "code",
      "metadata": {
        "id": "BJxv0z8wkzDs"
      },
      "source": [
        "size_train_set = 6000\n",
        "size_test_set = 300"
      ],
      "execution_count": null,
      "outputs": []
    },
    {
      "cell_type": "markdown",
      "metadata": {
        "id": "iYsHXf2bJJbG"
      },
      "source": [
        "###SVM"
      ]
    },
    {
      "cell_type": "code",
      "metadata": {
        "id": "jTmILayNJLEf"
      },
      "source": [
        "class p_svm:\n",
        "  svm_models = [svm.SVC(kernel='linear', C=1.0), svm.SVC(kernel='rbf', gamma=0.7, C=1.0)]\n",
        "  \n",
        "  def train_svm(self,x_train,y_train):\n",
        "    for model in self.svm_models:\n",
        "      model.fit(x_train, y_train)\n",
        "\n",
        "  def analyse_svm(self,x_test,y_test):\n",
        "    for model in self.svm_models:\n",
        "      y_pred = (model.predict(x_test))\n",
        "      accuracy = metrics.accuracy_score(y_test, y_pred)\n",
        "      print('For ',model.kernel, 'kernel -- accuracy: ',accuracy)"
      ],
      "execution_count": null,
      "outputs": []
    },
    {
      "cell_type": "markdown",
      "metadata": {
        "id": "Pe-R49CQAmzz"
      },
      "source": [
        "###SVM over f-MNIST"
      ]
    },
    {
      "cell_type": "code",
      "metadata": {
        "id": "EVu1S8yMAsLr",
        "colab": {
          "base_uri": "https://localhost:8080/"
        },
        "outputId": "084fdd51-7db7-4a6b-e194-148e4098afea"
      },
      "source": [
        "(x_train, y_train, x_test, y_test) = (fmnist_x_train[:size_train_set], fmnist_y_train[:size_train_set], fmnist_x_test[:size_test_set], fmnist_y_test[:size_test_set])\n",
        "\n",
        "x_train=x_train.reshape(x_train.shape[0],x_train.shape[1]*x_train.shape[2])\n",
        "x_test=x_test.reshape(x_test.shape[0],x_test.shape[1]*x_test.shape[2])\n",
        "\n",
        "x_train=x_train/255.0\n",
        "x_test=x_test/255.0\n",
        "\n",
        "perform_svm = p_svm()\n",
        "perform_svm.train_svm(x_train, y_train)\n",
        "perform_svm.analyse_svm(x_test, y_test)"
      ],
      "execution_count": null,
      "outputs": [
        {
          "output_type": "stream",
          "text": [
            "For  linear kernel -- accuracy:  0.86\n",
            "For  rbf kernel -- accuracy:  0.19666666666666666\n"
          ],
          "name": "stdout"
        }
      ]
    },
    {
      "cell_type": "markdown",
      "metadata": {
        "id": "MpLUbJtEASCf"
      },
      "source": [
        "###MLP over MNIST"
      ]
    },
    {
      "cell_type": "code",
      "metadata": {
        "id": "jGbtZhcZ9_FK"
      },
      "source": [
        "(x_train, y_train, x_test, y_test) = (mnist_x_train[:size_train_set], mnist_y_train[:size_train_set], mnist_x_test[:size_test_set], mnist_y_test[:size_test_set])\n",
        "\n",
        "x_train = x_train/255.0\n",
        "x_test = x_test/255.0"
      ],
      "execution_count": null,
      "outputs": []
    },
    {
      "cell_type": "code",
      "metadata": {
        "id": "NJ3FrwHefwLW"
      },
      "source": [
        "(img_height, img_width) = (x_train.shape[1],x_train.shape[2])\n",
        "#Set up the layers\n",
        "model = tf.keras.Sequential([\n",
        "    tf.keras.layers.Flatten(input_shape=(img_height, img_width), name='flatten-layer'), # to Flatten 28*28 to 784\n",
        "    tf.keras.layers.Dense(img_height*img_width/4, activation='relu' , name='hidden-1'),\n",
        "    tf.keras.layers.Dense(img_height*img_width/8, activation='sigmoid' , name='hidden-2'),\n",
        "    tf.keras.layers.Dense(img_height*img_width/16, activation='sigmoid' , name='hidden-3'),\n",
        "    tf.keras.layers.Dense(32, activation='relu', name='hidden-4'),\n",
        "    tf.keras.layers.Dense(10)\n",
        "])"
      ],
      "execution_count": null,
      "outputs": []
    },
    {
      "cell_type": "code",
      "metadata": {
        "id": "bPE217LYtT3D"
      },
      "source": [
        "#Compile the model\n",
        "model.compile(optimizer='adam',\n",
        "              loss=tf.keras.losses.SparseCategoricalCrossentropy(from_logits=True),\n",
        "              metrics=['accuracy'])"
      ],
      "execution_count": null,
      "outputs": []
    },
    {
      "cell_type": "code",
      "metadata": {
        "id": "5jSmYXdGyS_5",
        "colab": {
          "base_uri": "https://localhost:8080/"
        },
        "outputId": "1c936494-f780-4b64-948c-16b15fb48246"
      },
      "source": [
        "model.summary()"
      ],
      "execution_count": null,
      "outputs": [
        {
          "output_type": "stream",
          "text": [
            "Model: \"sequential\"\n",
            "_________________________________________________________________\n",
            "Layer (type)                 Output Shape              Param #   \n",
            "=================================================================\n",
            "flatten-layer (Flatten)      (None, 784)               0         \n",
            "_________________________________________________________________\n",
            "hidden-1 (Dense)             (None, 196)               153860    \n",
            "_________________________________________________________________\n",
            "hidden-2 (Dense)             (None, 98)                19306     \n",
            "_________________________________________________________________\n",
            "hidden-3 (Dense)             (None, 49)                4851      \n",
            "_________________________________________________________________\n",
            "hidden-4 (Dense)             (None, 32)                1600      \n",
            "_________________________________________________________________\n",
            "dense (Dense)                (None, 10)                330       \n",
            "=================================================================\n",
            "Total params: 179,947\n",
            "Trainable params: 179,947\n",
            "Non-trainable params: 0\n",
            "_________________________________________________________________\n"
          ],
          "name": "stdout"
        }
      ]
    },
    {
      "cell_type": "code",
      "metadata": {
        "id": "1K9ciH1ottkb",
        "colab": {
          "base_uri": "https://localhost:8080/"
        },
        "outputId": "e4a6680f-7cd6-440a-f9a6-c1f614f62431"
      },
      "source": [
        "#Train the model\n",
        "model.fit(x_train, y_train, epochs=10)\n"
      ],
      "execution_count": null,
      "outputs": [
        {
          "output_type": "stream",
          "text": [
            "Epoch 1/10\n",
            "188/188 [==============================] - 4s 2ms/step - loss: 1.3664 - accuracy: 0.6098\n",
            "Epoch 2/10\n",
            "188/188 [==============================] - 0s 2ms/step - loss: 0.4105 - accuracy: 0.9012\n",
            "Epoch 3/10\n",
            "188/188 [==============================] - 0s 2ms/step - loss: 0.2243 - accuracy: 0.9427\n",
            "Epoch 4/10\n",
            "188/188 [==============================] - 0s 2ms/step - loss: 0.1521 - accuracy: 0.9630\n",
            "Epoch 5/10\n",
            "188/188 [==============================] - 0s 2ms/step - loss: 0.1089 - accuracy: 0.9715\n",
            "Epoch 6/10\n",
            "188/188 [==============================] - 0s 2ms/step - loss: 0.0785 - accuracy: 0.9822\n",
            "Epoch 7/10\n",
            "188/188 [==============================] - 0s 2ms/step - loss: 0.0539 - accuracy: 0.9885\n",
            "Epoch 8/10\n",
            "188/188 [==============================] - 0s 2ms/step - loss: 0.0465 - accuracy: 0.9893\n",
            "Epoch 9/10\n",
            "188/188 [==============================] - 0s 2ms/step - loss: 0.0278 - accuracy: 0.9947\n",
            "Epoch 10/10\n",
            "188/188 [==============================] - 0s 2ms/step - loss: 0.0213 - accuracy: 0.9958\n"
          ],
          "name": "stdout"
        },
        {
          "output_type": "execute_result",
          "data": {
            "text/plain": [
              "<tensorflow.python.keras.callbacks.History at 0x7faec0077410>"
            ]
          },
          "metadata": {
            "tags": []
          },
          "execution_count": 11
        }
      ]
    },
    {
      "cell_type": "code",
      "metadata": {
        "id": "gag20n5puEOj",
        "colab": {
          "base_uri": "https://localhost:8080/"
        },
        "outputId": "4977a8bc-3133-4790-e3a2-5c794bb6bcc7"
      },
      "source": [
        "#Evaluate accuracy\n",
        "test_loss, test_acc = model.evaluate(x_test,  y_test)\n",
        "\n",
        "print('\\nTest accuracy:',test_acc, '\\nTest loss:',test_loss)"
      ],
      "execution_count": null,
      "outputs": [
        {
          "output_type": "stream",
          "text": [
            "10/10 [==============================] - 0s 2ms/step - loss: 0.1466 - accuracy: 0.9600\n",
            "\n",
            "Test accuracy: 0.9599999785423279 \n",
            "Test loss: 0.14661118388175964\n"
          ],
          "name": "stdout"
        }
      ]
    },
    {
      "cell_type": "markdown",
      "metadata": {
        "id": "XxGq0HGbEzoC"
      },
      "source": [
        "###transforming fashion-MNIST\n",
        "pop output layer of trained MLP\n",
        "\n",
        "f-MNIST through the model"
      ]
    },
    {
      "cell_type": "code",
      "metadata": {
        "id": "YxsDW3l1FRhA"
      },
      "source": [
        "# remove the last layer of the model\n",
        "model.pop() "
      ],
      "execution_count": null,
      "outputs": []
    },
    {
      "cell_type": "code",
      "metadata": {
        "id": "shqlygSmzpfQ"
      },
      "source": [
        "# feature extraction from the above model\n",
        "\n",
        "feature_extractor = keras.Model(\n",
        "    inputs=model.inputs,\n",
        "    outputs=model.get_layer(name=\"hidden-4\").output,\n",
        ")\n",
        "\n",
        "(t_fmnist_x_train, t_fmnist_y_train) = (feature_extractor(fmnist_x_train[:size_train_set]) , fmnist_y_train[:size_train_set] )\n",
        "(t_fmnist_x_test, t_fmnist_y_test) = (feature_extractor(fmnist_x_test[:size_test_set]), fmnist_y_test[:size_test_set])"
      ],
      "execution_count": null,
      "outputs": []
    },
    {
      "cell_type": "markdown",
      "metadata": {
        "id": "Eg9vNH3yCIlN"
      },
      "source": [
        "###SVM over transformed f-MNIST "
      ]
    },
    {
      "cell_type": "code",
      "metadata": {
        "id": "z0F1YzPLCSMF"
      },
      "source": [
        "(x_train, y_train, x_test, y_test) = (t_fmnist_x_train, t_fmnist_y_train, t_fmnist_x_test, t_fmnist_y_test)\n",
        "\n",
        "perform_svm = p_svm()\n",
        "perform_svm.train_svm(x_train, y_train)\n",
        "perform_svm.analyse_svm(x_test, y_test)"
      ],
      "execution_count": null,
      "outputs": []
    }
  ]
}